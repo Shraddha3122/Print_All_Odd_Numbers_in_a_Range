{
 "cells": [
  {
   "cell_type": "markdown",
   "id": "455da84d",
   "metadata": {},
   "source": [
    "# Print All Odd Numbers in a Range"
   ]
  },
  {
   "cell_type": "raw",
   "id": "a829ed29",
   "metadata": {},
   "source": [
    "Problem Description\n",
    "The program takes the upper and lower limit and prints all odd numbers within a given range."
   ]
  },
  {
   "cell_type": "code",
   "execution_count": 1,
   "id": "0ccfb585",
   "metadata": {},
   "outputs": [
    {
     "name": "stdout",
     "output_type": "stream",
     "text": [
      "Enter the lower limit for the range:10\n",
      "Enter the upper limit for the range:2\n"
     ]
    }
   ],
   "source": [
    "lower=int(input(\"Enter the lower limit for the range:\"))\n",
    "upper=int(input(\"Enter the upper limit for the range:\"))\n",
    "for i in range(lower,upper+1):\n",
    "    if(i%2!=0):\n",
    "        print(i)"
   ]
  },
  {
   "cell_type": "code",
   "execution_count": null,
   "id": "ef4ff7c2",
   "metadata": {},
   "outputs": [],
   "source": []
  }
 ],
 "metadata": {
  "kernelspec": {
   "display_name": "Python 3 (ipykernel)",
   "language": "python",
   "name": "python3"
  },
  "language_info": {
   "codemirror_mode": {
    "name": "ipython",
    "version": 3
   },
   "file_extension": ".py",
   "mimetype": "text/x-python",
   "name": "python",
   "nbconvert_exporter": "python",
   "pygments_lexer": "ipython3",
   "version": "3.9.12"
  }
 },
 "nbformat": 4,
 "nbformat_minor": 5
}
